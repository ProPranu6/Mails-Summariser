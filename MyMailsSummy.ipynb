{
 "cells": [
  {
   "cell_type": "code",
   "execution_count": 1,
   "id": "1b3ae5a8",
   "metadata": {},
   "outputs": [
    {
     "name": "stdout",
     "output_type": "stream",
     "text": [
      "Package Dependencies That Can Cause Error\n",
      " 'sentence-transformers', 'sumy'\n",
      "\n"
     ]
    }
   ],
   "source": [
    "import elite_ai_ml_bckend"
   ]
  },
  {
   "cell_type": "code",
   "execution_count": 2,
   "id": "76cf69bc",
   "metadata": {},
   "outputs": [
    {
     "name": "stdout",
     "output_type": "stream",
     "text": [
      "Requirement already satisfied: sentence-transformers in c:\\users\\t.praneeth\\anaconda3\\lib\\site-packages (2.0.0)\n",
      "Requirement already satisfied: tqdm in c:\\users\\t.praneeth\\anaconda3\\lib\\site-packages (from sentence-transformers) (4.59.0)\n",
      "Requirement already satisfied: torchvision in c:\\users\\t.praneeth\\anaconda3\\lib\\site-packages (from sentence-transformers) (0.10.0)\n",
      "Requirement already satisfied: sentencepiece in c:\\users\\t.praneeth\\anaconda3\\lib\\site-packages (from sentence-transformers) (0.1.96)\n",
      "Requirement already satisfied: torch>=1.6.0 in c:\\users\\t.praneeth\\anaconda3\\lib\\site-packages (from sentence-transformers) (1.9.0)\n",
      "Requirement already satisfied: scikit-learn in c:\\users\\t.praneeth\\anaconda3\\lib\\site-packages (from sentence-transformers) (0.24.1)\n",
      "Requirement already satisfied: scipy in c:\\users\\t.praneeth\\anaconda3\\lib\\site-packages (from sentence-transformers) (1.6.2)\n",
      "Requirement already satisfied: huggingface-hub in c:\\users\\t.praneeth\\anaconda3\\lib\\site-packages (from sentence-transformers) (0.0.12)\n",
      "Requirement already satisfied: numpy in c:\\users\\t.praneeth\\anaconda3\\lib\\site-packages (from sentence-transformers) (1.19.5)\n",
      "Requirement already satisfied: nltk in c:\\users\\t.praneeth\\anaconda3\\lib\\site-packages (from sentence-transformers) (3.6.1)\n",
      "Requirement already satisfied: transformers<5.0.0,>=4.6.0 in c:\\users\\t.praneeth\\anaconda3\\lib\\site-packages (from sentence-transformers) (4.9.2)\n",
      "Requirement already satisfied: typing-extensions in c:\\users\\t.praneeth\\anaconda3\\lib\\site-packages (from torch>=1.6.0->sentence-transformers) (3.7.4.3)\n",
      "Requirement already satisfied: packaging in c:\\users\\t.praneeth\\anaconda3\\lib\\site-packages (from transformers<5.0.0,>=4.6.0->sentence-transformers) (20.9)\n",
      "Requirement already satisfied: pyyaml>=5.1 in c:\\users\\t.praneeth\\anaconda3\\lib\\site-packages (from transformers<5.0.0,>=4.6.0->sentence-transformers) (5.4.1)\n",
      "Requirement already satisfied: sacremoses in c:\\users\\t.praneeth\\anaconda3\\lib\\site-packages (from transformers<5.0.0,>=4.6.0->sentence-transformers) (0.0.45)\n",
      "Requirement already satisfied: filelock in c:\\users\\t.praneeth\\anaconda3\\lib\\site-packages (from transformers<5.0.0,>=4.6.0->sentence-transformers) (3.0.12)\n",
      "Requirement already satisfied: tokenizers<0.11,>=0.10.1 in c:\\users\\t.praneeth\\anaconda3\\lib\\site-packages (from transformers<5.0.0,>=4.6.0->sentence-transformers) (0.10.3)\n",
      "Requirement already satisfied: requests in c:\\users\\t.praneeth\\anaconda3\\lib\\site-packages (from transformers<5.0.0,>=4.6.0->sentence-transformers) (2.25.1)\n",
      "Requirement already satisfied: regex!=2019.12.17 in c:\\users\\t.praneeth\\anaconda3\\lib\\site-packages (from transformers<5.0.0,>=4.6.0->sentence-transformers) (2021.4.4)\n",
      "Requirement already satisfied: pyparsing>=2.0.2 in c:\\users\\t.praneeth\\anaconda3\\lib\\site-packages (from packaging->transformers<5.0.0,>=4.6.0->sentence-transformers) (2.4.7)\n",
      "Requirement already satisfied: click in c:\\users\\t.praneeth\\anaconda3\\lib\\site-packages (from nltk->sentence-transformers) (7.1.2)\n",
      "Requirement already satisfied: joblib in c:\\users\\t.praneeth\\anaconda3\\lib\\site-packages (from nltk->sentence-transformers) (1.0.1)\n",
      "Requirement already satisfied: chardet<5,>=3.0.2 in c:\\users\\t.praneeth\\anaconda3\\lib\\site-packages (from requests->transformers<5.0.0,>=4.6.0->sentence-transformers) (4.0.0)\n",
      "Requirement already satisfied: certifi>=2017.4.17 in c:\\users\\t.praneeth\\anaconda3\\lib\\site-packages (from requests->transformers<5.0.0,>=4.6.0->sentence-transformers) (2020.12.5)\n",
      "Requirement already satisfied: idna<3,>=2.5 in c:\\users\\t.praneeth\\anaconda3\\lib\\site-packages (from requests->transformers<5.0.0,>=4.6.0->sentence-transformers) (2.10)\n",
      "Requirement already satisfied: urllib3<1.27,>=1.21.1 in c:\\users\\t.praneeth\\anaconda3\\lib\\site-packages (from requests->transformers<5.0.0,>=4.6.0->sentence-transformers) (1.26.4)\n",
      "Requirement already satisfied: six in c:\\users\\t.praneeth\\anaconda3\\lib\\site-packages (from sacremoses->transformers<5.0.0,>=4.6.0->sentence-transformers) (1.15.0)\n",
      "Requirement already satisfied: threadpoolctl>=2.0.0 in c:\\users\\t.praneeth\\anaconda3\\lib\\site-packages (from scikit-learn->sentence-transformers) (2.1.0)\n",
      "Requirement already satisfied: pillow>=5.3.0 in c:\\users\\t.praneeth\\anaconda3\\lib\\site-packages (from torchvision->sentence-transformers) (8.2.0)\n"
     ]
    },
    {
     "name": "stderr",
     "output_type": "stream",
     "text": [
      "The system cannot find the path specified.\n"
     ]
    },
    {
     "name": "stdout",
     "output_type": "stream",
     "text": [
      "Requirement already satisfied: sumy in c:\\users\\t.praneeth\\anaconda3\\lib\\site-packages (0.8.1)\n",
      "Requirement already satisfied: requests>=2.7.0 in c:\\users\\t.praneeth\\anaconda3\\lib\\site-packages (from sumy) (2.25.1)\n",
      "Requirement already satisfied: nltk>=3.0.2 in c:\\users\\t.praneeth\\anaconda3\\lib\\site-packages (from sumy) (3.6.1)\n",
      "Requirement already satisfied: breadability>=0.1.20 in c:\\users\\t.praneeth\\anaconda3\\lib\\site-packages (from sumy) (0.1.20)\n",
      "Requirement already satisfied: pycountry>=18.2.23 in c:\\users\\t.praneeth\\anaconda3\\lib\\site-packages (from sumy) (20.7.3)\n",
      "Requirement already satisfied: docopt<0.7,>=0.6.1 in c:\\users\\t.praneeth\\anaconda3\\lib\\site-packages (from sumy) (0.6.2)\n",
      "Requirement already satisfied: chardet in c:\\users\\t.praneeth\\anaconda3\\lib\\site-packages (from breadability>=0.1.20->sumy) (4.0.0)\n",
      "Requirement already satisfied: lxml>=2.0 in c:\\users\\t.praneeth\\anaconda3\\lib\\site-packages (from breadability>=0.1.20->sumy) (4.6.3)\n",
      "Requirement already satisfied: joblib in c:\\users\\t.praneeth\\anaconda3\\lib\\site-packages (from nltk>=3.0.2->sumy) (1.0.1)\n",
      "Requirement already satisfied: click in c:\\users\\t.praneeth\\anaconda3\\lib\\site-packages (from nltk>=3.0.2->sumy) (7.1.2)\n",
      "Requirement already satisfied: regex in c:\\users\\t.praneeth\\anaconda3\\lib\\site-packages (from nltk>=3.0.2->sumy) (2021.4.4)\n",
      "Requirement already satisfied: tqdm in c:\\users\\t.praneeth\\anaconda3\\lib\\site-packages (from nltk>=3.0.2->sumy) (4.59.0)\n",
      "Requirement already satisfied: certifi>=2017.4.17 in c:\\users\\t.praneeth\\anaconda3\\lib\\site-packages (from requests>=2.7.0->sumy) (2020.12.5)\n",
      "Requirement already satisfied: idna<3,>=2.5 in c:\\users\\t.praneeth\\anaconda3\\lib\\site-packages (from requests>=2.7.0->sumy) (2.10)\n"
     ]
    },
    {
     "name": "stderr",
     "output_type": "stream",
     "text": [
      "The system cannot find the path specified.\n"
     ]
    },
    {
     "name": "stdout",
     "output_type": "stream",
     "text": [
      "Requirement already satisfied: urllib3<1.27,>=1.21.1 in c:\\users\\t.praneeth\\anaconda3\\lib\\site-packages (from requests>=2.7.0->sumy) (1.26.4)\n"
     ]
    }
   ],
   "source": [
    "!pip install sentence-transformers\n",
    "!pip install sumy"
   ]
  },
  {
   "cell_type": "code",
   "execution_count": 3,
   "id": "5b843565",
   "metadata": {},
   "outputs": [
    {
     "name": "stderr",
     "output_type": "stream",
     "text": [
      "[nltk_data] Downloading package punkt to\n",
      "[nltk_data]     C:\\Users\\T.PRANEETH\\AppData\\Roaming\\nltk_data...\n",
      "[nltk_data]   Package punkt is already up-to-date!\n",
      "[nltk_data] Downloading package stopwords to\n",
      "[nltk_data]     C:\\Users\\T.PRANEETH\\AppData\\Roaming\\nltk_data...\n",
      "[nltk_data]   Package stopwords is already up-to-date!\n"
     ]
    }
   ],
   "source": [
    "from elite_ai_ml_bckend.elite_ai_content_summarisation import *\n",
    "from elite_ai_ml_bckend.alternative_summarizations import *"
   ]
  },
  {
   "cell_type": "code",
   "execution_count": 46,
   "id": "3a142faf",
   "metadata": {},
   "outputs": [],
   "source": [
    "##CODE TO RECEIVE MAILS\n",
    "import email\n",
    "import imaplib\n",
    "import datetime\n",
    "import smtplib\n",
    "\n",
    "\n",
    "def extract_textin_mails(email_id, password, folder=\"Inbox\", display=False, mail_count=100, **kwargs):\n",
    "    EMAIL = email_id\n",
    "    PASSWORD = password\n",
    "    SERVER = 'imap.gmail.com'\n",
    "\n",
    "    # connect to the server and go to its inbox\n",
    "    mail = imaplib.IMAP4_SSL(SERVER)\n",
    "    mail.login(EMAIL, PASSWORD)\n",
    "    # we choose the inbox but you can select others\n",
    "    mail.select('\"{0}\"'.format(folder))\n",
    "\n",
    " \n",
    "    # we'll search using the ALL criteria to retrieve\n",
    "    # every message inside the inbox\n",
    "    # it will return with its status and a list of ids\n",
    "    search_cue = '('\n",
    "    for k,v in kwargs.items():\n",
    "        search_cue += k+\" \"\n",
    "        search_cue += '\"{0}\"'.format(v) + \" \"\n",
    "    search_cue = search_cue[:len(search_cue)-1]\n",
    "    search_cue += ')'\n",
    "            \n",
    "    try:\n",
    "        status, data = mail.search(None, search_cue)\n",
    "    except:\n",
    "        print(\"SEARCH_CUE ERROR\")\n",
    "        return\n",
    "\n",
    "    # the list returned is a list of bytes separated\n",
    "    # by white spaces on this format: [b'1 2 3', b'4 5 6']\n",
    "    # so, to separate it first we create an empty list\n",
    "    mail_ids = []\n",
    "    # then we go through the list splitting its blocks\n",
    "    # of bytes and appending to the mail_ids list\n",
    "    for block in data:\n",
    "        # the split function called without parameter\n",
    "        # transforms the text or bytes into a list using\n",
    "        # as separator the white spaces:\n",
    "        # b'1 2 3'.split() => [b'1', b'2', b'3']\n",
    "        mail_ids += block.split()\n",
    "    mail_ids = mail_ids[:mail_count]\n",
    "    # now for every id we'll fetch the email\n",
    "    # to extract its content\n",
    "    mail_contents=[]\n",
    "    mail_subjects = []\n",
    "    for i in mail_ids:\n",
    "        # the fetch function fetch the email given its id\n",
    "        # and format that you want the message to be\n",
    "        status, data = mail.fetch(i, '(RFC822)')\n",
    "\n",
    "        # the content data at the '(RFC822)' format comes on\n",
    "        # a list with a tuple with header, content, and the closing\n",
    "        # byte b')'\n",
    "        for response_part in data:\n",
    "            # so if its a tuple...\n",
    "            if isinstance(response_part, tuple):\n",
    "                # we go for the content at its second element\n",
    "                # skipping the header at the first and the closing\n",
    "                # at the third\n",
    "                message = email.message_from_bytes(response_part[1])\n",
    "\n",
    "                # with the content we can extract the info about\n",
    "                # who sent the message and its subject\n",
    "                mail_from = message['from']\n",
    "                mail_subject = message['subject']\n",
    "                \n",
    "                \n",
    "                    \n",
    "                # then for the text we have a little more work to do\n",
    "                # because it can be in plain text or multipart\n",
    "                # if its not plain text we need to separate the message\n",
    "                # from its annexes to get the text\n",
    "                if message.is_multipart():\n",
    "                    mail_content = ''\n",
    "\n",
    "                    # on multipart we have the text message and\n",
    "                    # another things like annex, and html version\n",
    "                    # of the message, in that case we loop through\n",
    "                    # the email payload\n",
    "                    for part in message.get_payload():\n",
    "                        # if the content type is text/plain\n",
    "                        # we extract it\n",
    "                        if part.get_content_type() == 'text/plain':\n",
    "                            mail_content += part.get_payload()\n",
    "                        else:\n",
    "                            \n",
    "                            for subpart in part.get_payload():\n",
    "                                \n",
    "                                try:\n",
    "                                    if subpart.get_content_type() != 'text/plain':\n",
    "                                        for subsubpart in subpart.get_payload():\n",
    "                                            if subsubpart.get_content_type() == 'text/plain':\n",
    "                                                mail_content += subsubpart.get_payload() #== \"text/plain\":\n",
    "                                    else:\n",
    "                                        mail_content += subpart.get_payload()\n",
    "                                except :\n",
    "                                    pass\n",
    "                                    \n",
    "                            \n",
    "                else:\n",
    "                    # if the message isn't multipart, just extract it\n",
    "                    mail_content = message.get_payload()\n",
    "\n",
    "                # and then let's show its result\n",
    "                if display == True:\n",
    "                    print(f'From: {mail_from}')\n",
    "                    print(f'Subject: {mail_subject}')\n",
    "                    print(f'Content: {mail_content}')\n",
    "                mail_contents.append(mail_content)\n",
    "                mail_subjects.append(mail_subject)\n",
    "    return mail_contents, mail_subjects\n",
    "\n",
    "\n",
    "\n",
    "\n",
    "\n",
    "\n",
    "def send_summaryin_mail(summary_file=None, summary_text=None, subject=None, sender_mail_id=None, sender_mail_password=None, receiver_mail_id=None):\n",
    "    # Python code to illustrate Sending mail from\n",
    "# your Gmail account\n",
    "    \n",
    "    if summary_file != None:\n",
    "        summ_file = open(summary_file, 'r')\n",
    "        summary = summ_file.read()\n",
    "    else:\n",
    "        summary = summary_text\n",
    "# creates SMTP session\n",
    "    s = smtplib.SMTP('smtp.gmail.com', 587)\n",
    "\n",
    "    # start TLS for security\n",
    "    s.starttls()\n",
    "\n",
    "    # Authentication\n",
    "    s.login(sender_mail_id, sender_mail_password)\n",
    "\n",
    "    # message to be sent\n",
    "    \n",
    "\n",
    "    message = \"\\n\\n\\n\\tElite Summary of your \" + subject.upper() + \" Mail\\n\\n\\n\" + summary\n",
    "\n",
    "    # sending the mail\n",
    "    s.sendmail(sender_mail_id, receiver_mail_id, message)\n",
    "\n",
    "    # terminating the session\n",
    "    s.quit()\n",
    "    \n",
    "    return \"Successfully Sent Mail\"\n"
   ]
  },
  {
   "cell_type": "code",
   "execution_count": 80,
   "id": "226028ca",
   "metadata": {},
   "outputs": [
    {
     "data": {
      "text/plain": [
       "3"
      ]
     },
     "execution_count": 80,
     "metadata": {},
     "output_type": "execute_result"
    }
   ],
   "source": [
    "mail_contents, mail_subjects = extract_textin_mails(email_id=\"praneeth_thota@srmap.edu.in\", password=\"7ujm^%ty\", folder=\"Inbox\", display=False, ON='06-Sep-2021', mail_count=3)\n",
    "len(mail_contents)"
   ]
  },
  {
   "cell_type": "code",
   "execution_count": 82,
   "id": "0ffa60a1",
   "metadata": {},
   "outputs": [
    {
     "name": "stdout",
     "output_type": "stream",
     "text": [
      "~DONE~\n",
      "Error With Summarisation\n",
      "~DONE~\n"
     ]
    }
   ],
   "source": [
    "summaries_and_subjects = []\n",
    "for mi in range(len(mail_contents)):\n",
    "    if len(mail_contents[mi]) != 0:\n",
    "        try:\n",
    "            result = execute_summarisation(mail_contents[mi], summary_ratio=0.5)\n",
    "            summaries_and_subjects.append((result['EnsembledSummary'], mail_subjects[mi]))\n",
    "        except:\n",
    "            print(\"Error With Summarisation\")\n"
   ]
  },
  {
   "cell_type": "code",
   "execution_count": 83,
   "id": "5804657d",
   "metadata": {},
   "outputs": [
    {
     "name": "stdout",
     "output_type": "stream",
     "text": [
      "Status of Mail 1 : Successfully Sent Mail\n",
      "Status of Mail 2 : Successfully Sent Mail\n"
     ]
    }
   ],
   "source": [
    "for si in range(len(summaries_and_subjects)):\n",
    "    status = send_summaryin_mail(summary_text=summaries_and_subjects[si][0], subject=summaries_and_subjects[si][1], sender_mail_id='praneeth_thota@srmap.edu.in', sender_mail_password='7ujm^%ty',receiver_mail_id='praneeth_thota@srmap.edu.in')\n",
    "    print(\"Status of Mail\", si+1, \":\", status)"
   ]
  },
  {
   "cell_type": "code",
   "execution_count": 13,
   "id": "45962df3",
   "metadata": {},
   "outputs": [
    {
     "name": "stdout",
     "output_type": "stream",
     "text": [
      "Dear All, Good morning and Happy Teachers' Day!\n",
      "The auspicious celebration of \"Teachers' Day\" originated to commemorate the birthday of Dr Sarvepalli Radhakrishnan, former President of India, by acknowledging the contributions of teachers- the best minds of the country.\n",
      "We must salute Dr Radhakrishnan and remember his words of wisdom that \"the end-product of education should be a free creative man, who can battle against historical circumstances and adversities of nature.\"\n",
      "\n"
     ]
    }
   ],
   "source": [
    "print(result['EnsembledSummary'])"
   ]
  },
  {
   "cell_type": "code",
   "execution_count": 1,
   "id": "6f0256dc",
   "metadata": {},
   "outputs": [],
   "source": [
    "#mail.lsub(directory='\"\"', pattern='*')"
   ]
  },
  {
   "cell_type": "code",
   "execution_count": 9,
   "id": "72c4e6f6",
   "metadata": {},
   "outputs": [
    {
     "name": "stdout",
     "output_type": "stream",
     "text": [
      "Dear All,\r\n",
      "\r\n",
      "Good morning and Happy Teachers' Day!\r\n",
      "\r\n",
      "The auspicious celebration of *\"Teachers' Day\"* originated to commemorate\r\n",
      "the birthday of Dr Sarvepalli Radhakrishnan, former President of India, by\r\n",
      "acknowledging the contributions of teachers- the best minds of the country.\r\n",
      "Sarvepalli Radhakrishnan was a highly-learned man, philosopher, prolific\r\n",
      "statesman and a remarkable teacher himself.\r\n",
      "\r\n",
      "We must salute Dr Radhakrishnan and remember his words of wisdom that *\"the\r\n",
      "end-product of education should be a free creative man, who can battle\r\n",
      "against historical circumstances and adversities of nature.\"*\r\n",
      "\r\n",
      "[image: teachers-day.jpg]\r\n",
      "--=20\r\n",
      "\r\n",
      "Thanks and Regards,\r\n",
      "\r\n",
      "\r\n",
      "\r\n",
      "*Prof. V S Rao*\r\n",
      "\r\n",
      "*Vice Chancellor*\r\n",
      "\r\n",
      "SRM University, AP\r\n",
      "\r\n",
      "Andhra Pradesh =E2=80=93 522502\r\n",
      "\r\n",
      "Email : vc@srmap.edu.in\r\n",
      "\n"
     ]
    }
   ],
   "source": []
  },
  {
   "cell_type": "code",
   "execution_count": null,
   "id": "86cde3d7",
   "metadata": {},
   "outputs": [],
   "source": []
  }
 ],
 "metadata": {
  "kernelspec": {
   "display_name": "Python 3",
   "language": "python",
   "name": "python3"
  },
  "language_info": {
   "codemirror_mode": {
    "name": "ipython",
    "version": 3
   },
   "file_extension": ".py",
   "mimetype": "text/x-python",
   "name": "python",
   "nbconvert_exporter": "python",
   "pygments_lexer": "ipython3",
   "version": "3.8.8"
  }
 },
 "nbformat": 4,
 "nbformat_minor": 5
}
